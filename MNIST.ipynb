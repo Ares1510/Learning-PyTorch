{
  "nbformat": 4,
  "nbformat_minor": 0,
  "metadata": {
    "colab": {
      "provenance": [],
      "gpuType": "T4",
      "authorship_tag": "ABX9TyNyaWx6PPd5rFhJ05nIaB4N",
      "include_colab_link": true
    },
    "kernelspec": {
      "name": "python3",
      "display_name": "Python 3"
    },
    "language_info": {
      "name": "python"
    },
    "accelerator": "GPU",
    "gpuClass": "standard"
  },
  "cells": [
    {
      "cell_type": "markdown",
      "metadata": {
        "id": "view-in-github",
        "colab_type": "text"
      },
      "source": [
        "<a href=\"https://colab.research.google.com/github/Ares1510/Learning-PyTorch/blob/main/MNIST.ipynb\" target=\"_parent\"><img src=\"https://colab.research.google.com/assets/colab-badge.svg\" alt=\"Open In Colab\"/></a>"
      ]
    },
    {
      "cell_type": "code",
      "source": [
        "!pip install torchmetrics"
      ],
      "metadata": {
        "colab": {
          "base_uri": "https://localhost:8080/"
        },
        "id": "c0QWyRWYgnQc",
        "outputId": "11a9caea-035c-4493-bc45-7b7053565ced"
      },
      "execution_count": 1,
      "outputs": [
        {
          "output_type": "stream",
          "name": "stdout",
          "text": [
            "Looking in indexes: https://pypi.org/simple, https://us-python.pkg.dev/colab-wheels/public/simple/\n",
            "Requirement already satisfied: torchmetrics in /usr/local/lib/python3.10/dist-packages (0.11.4)\n",
            "Requirement already satisfied: numpy>=1.17.2 in /usr/local/lib/python3.10/dist-packages (from torchmetrics) (1.22.4)\n",
            "Requirement already satisfied: torch>=1.8.1 in /usr/local/lib/python3.10/dist-packages (from torchmetrics) (2.0.1+cu118)\n",
            "Requirement already satisfied: packaging in /usr/local/lib/python3.10/dist-packages (from torchmetrics) (23.1)\n",
            "Requirement already satisfied: filelock in /usr/local/lib/python3.10/dist-packages (from torch>=1.8.1->torchmetrics) (3.12.0)\n",
            "Requirement already satisfied: typing-extensions in /usr/local/lib/python3.10/dist-packages (from torch>=1.8.1->torchmetrics) (4.5.0)\n",
            "Requirement already satisfied: sympy in /usr/local/lib/python3.10/dist-packages (from torch>=1.8.1->torchmetrics) (1.11.1)\n",
            "Requirement already satisfied: networkx in /usr/local/lib/python3.10/dist-packages (from torch>=1.8.1->torchmetrics) (3.1)\n",
            "Requirement already satisfied: jinja2 in /usr/local/lib/python3.10/dist-packages (from torch>=1.8.1->torchmetrics) (3.1.2)\n",
            "Requirement already satisfied: triton==2.0.0 in /usr/local/lib/python3.10/dist-packages (from torch>=1.8.1->torchmetrics) (2.0.0)\n",
            "Requirement already satisfied: cmake in /usr/local/lib/python3.10/dist-packages (from triton==2.0.0->torch>=1.8.1->torchmetrics) (3.25.2)\n",
            "Requirement already satisfied: lit in /usr/local/lib/python3.10/dist-packages (from triton==2.0.0->torch>=1.8.1->torchmetrics) (16.0.5)\n",
            "Requirement already satisfied: MarkupSafe>=2.0 in /usr/local/lib/python3.10/dist-packages (from jinja2->torch>=1.8.1->torchmetrics) (2.1.2)\n",
            "Requirement already satisfied: mpmath>=0.19 in /usr/local/lib/python3.10/dist-packages (from sympy->torch>=1.8.1->torchmetrics) (1.3.0)\n"
          ]
        }
      ]
    },
    {
      "cell_type": "code",
      "execution_count": 2,
      "metadata": {
        "id": "VF2aCOnkMgkA"
      },
      "outputs": [],
      "source": [
        "import torch\n",
        "import torchmetrics\n",
        "from torch import nn\n",
        "from torchvision import datasets, transforms\n",
        "from torch.utils.data import DataLoader, random_split, TensorDataset\n",
        "import torch.nn.functional as F\n",
        "import matplotlib.pyplot as plt"
      ]
    },
    {
      "cell_type": "code",
      "source": [
        "# Device agnostic code\n",
        "device = torch.device('cuda' if torch.cuda.is_available() else 'cpu')"
      ],
      "metadata": {
        "id": "xIWgWLNkW9oF"
      },
      "execution_count": 3,
      "outputs": []
    },
    {
      "cell_type": "code",
      "source": [
        "# Preprocessing steps\n",
        "transform = transforms.Compose([transforms.ToTensor(),\n",
        "                                transforms.Normalize((0.5,), (0.5,))])\n",
        "\n",
        "train = datasets.MNIST('/MNIST', download=True, train=True, transform=transform)\n",
        "\n",
        "# DataLoader is used to batch the data\n",
        "train_loader = DataLoader(train, batch_size=512, shuffle=False)\n",
        "\n",
        "# Sending the entire dataset to the GPU to speed up training\n",
        "train_loader = [(x.to(device), y.to(device)) for x, y in train_loader]"
      ],
      "metadata": {
        "id": "mPdELCOIMpsB"
      },
      "execution_count": 4,
      "outputs": []
    },
    {
      "cell_type": "code",
      "source": [
        "test = datasets.MNIST('/MNIST', download=True, train=False, transform=transform)\n",
        "\n",
        "# Creating the test DataLoader\n",
        "test_loader = DataLoader(test, batch_size=512, shuffle=False)\n",
        "\n",
        "# Sending the test data to the GPU\n",
        "test_loader = [(x.to(device), y.to(device)) for x, y in test_loader]"
      ],
      "metadata": {
        "id": "YeGr_H2dY9CM"
      },
      "execution_count": 5,
      "outputs": []
    },
    {
      "cell_type": "code",
      "source": [
        "for x, y in train_loader:\n",
        "  print(x.min(), x.max()) # Should be between -1 and 1\n",
        "  print(x.shape)\n",
        "  print(y.shape)\n",
        "  break"
      ],
      "metadata": {
        "colab": {
          "base_uri": "https://localhost:8080/"
        },
        "id": "ZARclJlhPUwP",
        "outputId": "215c535f-3a07-41bb-a1c7-e42c53daf733"
      },
      "execution_count": 6,
      "outputs": [
        {
          "output_type": "stream",
          "name": "stdout",
          "text": [
            "tensor(-1., device='cuda:0') tensor(1., device='cuda:0')\n",
            "torch.Size([512, 1, 28, 28])\n",
            "torch.Size([512])\n"
          ]
        }
      ]
    },
    {
      "cell_type": "code",
      "source": [
        "# Definig the model class. All models inherit the nn.Module class\n",
        "class MyNetwork(nn.Module):\n",
        "  def __init__(self):\n",
        "    super().__init__()\n",
        "    \n",
        "    # Defining the layers of the network\n",
        "    self.fc1 = nn.Linear(28*28, 128)\n",
        "    self.do1 = nn.Dropout(0.3)\n",
        "    self.fc2 = nn.Linear(128, 64)\n",
        "    self.do2 = nn.Dropout(0.3)\n",
        "    self.fc3 = nn.Linear(64, 10)\n",
        "\n",
        "  # Defining the forward pass of the network\n",
        "  def forward(self, X):\n",
        "    X = X.view(-1, 28*28)\n",
        "    X = self.do1(F.relu(self.fc1(X)))\n",
        "    X = self.do2(F.relu(self.fc2(X)))\n",
        "    X = self.fc3(X)\n",
        "    return X"
      ],
      "metadata": {
        "id": "ircWL1sMSklF"
      },
      "execution_count": 7,
      "outputs": []
    },
    {
      "cell_type": "code",
      "source": [
        "# Creating the model instance\n",
        "model = MyNetwork().to(device)\n",
        "\n",
        "# Loss is referred to as criterion in PyTorch\n",
        "criterion = nn.CrossEntropyLoss()\n",
        "# Defining the optimizer. Need to pass the model parameters here\n",
        "optimizer = torch.optim.Adam(model.parameters(), lr=0.001)\n",
        "\n",
        "# Creating torchmetrics \n",
        "train_metric = torchmetrics.Accuracy(task='multiclass', num_classes=10).to(device)\n",
        "test_metric = torchmetrics.Accuracy(task='multiclass', num_classes=10).to(device)"
      ],
      "metadata": {
        "id": "aIaa87CvWI5Z"
      },
      "execution_count": 8,
      "outputs": []
    },
    {
      "cell_type": "code",
      "source": [
        "# Defining the training loop\n",
        "epochs = 21\n",
        "\n",
        "# Capturing train and test metrics\n",
        "train_hist = {'loss': [], 'acc': []}\n",
        "test_hist = {'loss': [], 'acc': []}\n",
        "\n",
        "for epoch in range(1, epochs):\n",
        "  # Setting model to train mode\n",
        "  model.train()\n",
        "  train_loss = 0.0\n",
        "\n",
        "  for X, y in train_loader:\n",
        "    # Zeroing the gradients of the optimizer\n",
        "    optimizer.zero_grad()\n",
        "\n",
        "    # Forward pass of the model\n",
        "    output = model(X)\n",
        "    # Calculating the loss\n",
        "    loss = criterion(output, y)\n",
        "    # Calculating the gradients with respect to the loss\n",
        "    loss.backward()\n",
        "    # Performing one step of gradient descent\n",
        "    optimizer.step()\n",
        "\n",
        "    # Calculating the metrics for the entire batch\n",
        "    train_loss += loss.item()\n",
        "    preds = F.softmax(output, dim=1)\n",
        "    train_metric(preds, y)\n",
        "\n",
        "  train_loss = train_loss / len(train_loader)\n",
        "  train_acc = train_metric.compute()\n",
        "  # Resetting torchmetric after every epoch\n",
        "  train_metric.reset()\n",
        "\n",
        "  train_hist['loss'].append(train_loss)\n",
        "  train_hist['acc'].append(train_acc.cpu())\n",
        "\n",
        "  # Printing the metrics\n",
        "  print(f'Epoch: {epoch}, Train Loss: {train_loss: .4f}, Train Accuracy: {train_acc: .4f}')\n",
        "\n",
        "  # Setting the model to evaluation mode\n",
        "  model.eval()\n",
        "  test_loss = 0.0\n",
        "\n",
        "  # This turns of autograd to speed up calculations\n",
        "  with torch.no_grad():\n",
        "    for X, y in test_loader:\n",
        "\n",
        "      # Forward pass of the model \n",
        "      output = model(X)\n",
        "      # Calculating the loss\n",
        "      loss = criterion(output, y)\n",
        "\n",
        "      test_loss += loss.item()\n",
        "      preds = F.softmax(output, dim=1)\n",
        "      test_metric(preds, y)\n",
        "    \n",
        "  test_loss = test_loss / len(test_loader)\n",
        "  test_acc = test_metric.compute()\n",
        "  # Resetting torchmetric after every epoch\n",
        "  test_metric.reset()\n",
        "\n",
        "  test_hist['loss'].append(test_loss)\n",
        "  test_hist['acc'].append(test_acc.cpu())\n",
        "\n",
        "  # Printing the metrics\n",
        "  print(f'Epoch: {epoch}, Val Loss: {test_loss: .4f}, Val Accuracy: {test_acc: .4f}')"
      ],
      "metadata": {
        "colab": {
          "base_uri": "https://localhost:8080/"
        },
        "id": "n2d88frRaQ3G",
        "outputId": "5d356767-1dd6-4b16-afbf-6245ab812c3d"
      },
      "execution_count": 9,
      "outputs": [
        {
          "output_type": "stream",
          "name": "stdout",
          "text": [
            "Epoch: 1, Train Loss:  0.9340, Train Accuracy:  0.7027\n",
            "Epoch: 1, Val Loss:  0.3453, Val Accuracy:  0.8984\n",
            "Epoch: 2, Train Loss:  0.4252, Train Accuracy:  0.8726\n",
            "Epoch: 2, Val Loss:  0.2631, Val Accuracy:  0.9203\n",
            "Epoch: 3, Train Loss:  0.3428, Train Accuracy:  0.8996\n",
            "Epoch: 3, Val Loss:  0.2169, Val Accuracy:  0.9334\n",
            "Epoch: 4, Train Loss:  0.2994, Train Accuracy:  0.9121\n",
            "Epoch: 4, Val Loss:  0.1962, Val Accuracy:  0.9417\n",
            "Epoch: 5, Train Loss:  0.2667, Train Accuracy:  0.9223\n",
            "Epoch: 5, Val Loss:  0.1762, Val Accuracy:  0.9460\n",
            "Epoch: 6, Train Loss:  0.2436, Train Accuracy:  0.9279\n",
            "Epoch: 6, Val Loss:  0.1637, Val Accuracy:  0.9505\n",
            "Epoch: 7, Train Loss:  0.2256, Train Accuracy:  0.9334\n",
            "Epoch: 7, Val Loss:  0.1486, Val Accuracy:  0.9555\n",
            "Epoch: 8, Train Loss:  0.2100, Train Accuracy:  0.9377\n",
            "Epoch: 8, Val Loss:  0.1373, Val Accuracy:  0.9595\n",
            "Epoch: 9, Train Loss:  0.1991, Train Accuracy:  0.9406\n",
            "Epoch: 9, Val Loss:  0.1331, Val Accuracy:  0.9607\n",
            "Epoch: 10, Train Loss:  0.1913, Train Accuracy:  0.9427\n",
            "Epoch: 10, Val Loss:  0.1256, Val Accuracy:  0.9633\n",
            "Epoch: 11, Train Loss:  0.1842, Train Accuracy:  0.9455\n",
            "Epoch: 11, Val Loss:  0.1274, Val Accuracy:  0.9624\n",
            "Epoch: 12, Train Loss:  0.1801, Train Accuracy:  0.9457\n",
            "Epoch: 12, Val Loss:  0.1176, Val Accuracy:  0.9653\n",
            "Epoch: 13, Train Loss:  0.1707, Train Accuracy:  0.9498\n",
            "Epoch: 13, Val Loss:  0.1148, Val Accuracy:  0.9660\n",
            "Epoch: 14, Train Loss:  0.1668, Train Accuracy:  0.9508\n",
            "Epoch: 14, Val Loss:  0.1091, Val Accuracy:  0.9676\n",
            "Epoch: 15, Train Loss:  0.1613, Train Accuracy:  0.9521\n",
            "Epoch: 15, Val Loss:  0.1116, Val Accuracy:  0.9672\n",
            "Epoch: 16, Train Loss:  0.1571, Train Accuracy:  0.9527\n",
            "Epoch: 16, Val Loss:  0.1031, Val Accuracy:  0.9702\n",
            "Epoch: 17, Train Loss:  0.1531, Train Accuracy:  0.9538\n",
            "Epoch: 17, Val Loss:  0.1064, Val Accuracy:  0.9697\n",
            "Epoch: 18, Train Loss:  0.1501, Train Accuracy:  0.9558\n",
            "Epoch: 18, Val Loss:  0.1037, Val Accuracy:  0.9712\n",
            "Epoch: 19, Train Loss:  0.1472, Train Accuracy:  0.9560\n",
            "Epoch: 19, Val Loss:  0.1021, Val Accuracy:  0.9722\n",
            "Epoch: 20, Train Loss:  0.1442, Train Accuracy:  0.9577\n",
            "Epoch: 20, Val Loss:  0.1016, Val Accuracy:  0.9735\n"
          ]
        }
      ]
    },
    {
      "cell_type": "code",
      "source": [
        "# Plotting the train and test loss and accuarcy\n",
        "plt.plot(train_hist['loss'], label='Train Loss')\n",
        "plt.plot(test_hist['loss'], label='Val Loss')\n",
        "plt.plot(train_hist['acc'], label='Train Accuracy')\n",
        "plt.plot(test_hist['acc'], label='Val Accuracy')\n",
        "plt.ylim(0, 1)\n",
        "plt.legend()\n",
        "plt.show()"
      ],
      "metadata": {
        "colab": {
          "base_uri": "https://localhost:8080/",
          "height": 435
        },
        "id": "ddxMezFejhu8",
        "outputId": "7db1707d-c474-4d32-9766-be7ed443510d"
      },
      "execution_count": 10,
      "outputs": [
        {
          "output_type": "display_data",
          "data": {
            "text/plain": [
              "<Figure size 640x480 with 1 Axes>"
            ],
            "image/png": "[encoded data removed]"
          },
          "metadata": {}
        }
      ]
    },
    {
      "cell_type": "code",
      "source": [],
      "metadata": {
        "id": "05g1lQtlIqcj"
      },
      "execution_count": 10,
      "outputs": []
    }
  ]
}